{
 "cells": [
  {
   "cell_type": "markdown",
   "id": "7c136853",
   "metadata": {},
   "source": [
    "# Deterministic Optimization Model - Bus Charging Scheduling"
   ]
  },
  {
   "cell_type": "markdown",
   "id": "fcd90672",
   "metadata": {},
   "source": [
    "## Initialization"
   ]
  },
  {
   "cell_type": "code",
   "execution_count": 60,
   "id": "5b7fbc41",
   "metadata": {},
   "outputs": [],
   "source": [
    "import pyomo.environ as pyo\n",
    "from pyomo.opt import SolverFactory\n",
    "from pyomo.common.timing import TicTocTimer\n",
    "\n",
    "import pandas as pd\n",
    "import matplotlib.pyplot as plt\n",
    "import numpy as np"
   ]
  },
  {
   "cell_type": "code",
   "execution_count": 61,
   "id": "f9b6bcd1",
   "metadata": {},
   "outputs": [],
   "source": [
    "EXEC_PATH = '/Applications/CPLEX_Studio221/cplex/bin/x86-64_osx/cplex'"
   ]
  },
  {
   "cell_type": "code",
   "execution_count": 62,
   "id": "63452f04",
   "metadata": {},
   "outputs": [],
   "source": [
    "model = pyo.ConcreteModel()"
   ]
  },
  {
   "cell_type": "markdown",
   "id": "181fee93",
   "metadata": {},
   "source": [
    "## Data"
   ]
  },
  {
   "cell_type": "code",
   "execution_count": 63,
   "id": "42e2bbe2",
   "metadata": {},
   "outputs": [],
   "source": [
    "data = pd.read_excel('Instances/input_small.xlsx', None)\n",
    "\n",
    "i = len(data['Trip time']['Time begin (min)'])\n",
    "t = len(data['Energy price']['Energy buying price (per minute)'])\n",
    "k = len(data['Buses']['Bus (kWh)'])\n",
    "n = len(data['Chargers']['Charger (kWh/min)'])\n",
    "l = len(data['Power price']['Power'])\n",
    "\n",
    "T_start = data['Trip time']['Time begin (min)'].tolist()\n",
    "T_start = [int(x) for x in T_start]\n",
    "T_end = data['Trip time']['Time finish (min)'].tolist()\n",
    "T_end = [int(x) for x in T_end]\n",
    "\n",
    "alpha = data['Chargers']['Charger (kWh/min)'].tolist()\n",
    "beta = data['Chargers']['Charger (kWh/min)'].tolist()\n",
    "ch_eff = 0.90\n",
    "dch_eff = 1/0.9\n",
    "gama = data['Energy consumption']['Uncertain energy (kWh/km*min)'].tolist()\n",
    "\n",
    "P = data['Energy price']['Energy buying price (per minute)'].tolist()\n",
    "S = data['Energy price']['Energy selling price (per minute)'].tolist()\n",
    "\n",
    "E_0 = 0.2\n",
    "E_min = 0.2\n",
    "E_max = 1\n",
    "E_end = 0.2\n",
    "C_bat = data['Buses']['Bus (kWh)'].tolist()\n",
    "\n",
    "U_pow = data['Power price']['Power'].tolist()\n",
    "U_price = data['Power price']['Price'].tolist()\n",
    "U_max = data['Chargers']['Max Power (kW)'].tolist()\n",
    "\n",
    "R = 130\n",
    "Ah = 905452\n",
    "V = 512\n",
    "T = t"
   ]
  },
  {
   "cell_type": "markdown",
   "id": "5e0d5349",
   "metadata": {},
   "source": [
    "## Sets"
   ]
  },
  {
   "cell_type": "code",
   "execution_count": 64,
   "id": "7f2a5861",
   "metadata": {},
   "outputs": [],
   "source": [
    "model.I = pyo.RangeSet(i) # set of trips\n",
    "model.T = pyo.RangeSet(t) # set of timesteps\n",
    "model.K = pyo.RangeSet(k) # set of buses\n",
    "model.N = pyo.RangeSet(n) # set of chargers\n",
    "model.L = pyo.RangeSet(l) # set of peak power levels"
   ]
  },
  {
   "cell_type": "markdown",
   "id": "ae040660",
   "metadata": {},
   "source": [
    "## Parameters"
   ]
  },
  {
   "cell_type": "code",
   "execution_count": 65,
   "id": "6cac063f",
   "metadata": {},
   "outputs": [],
   "source": [
    "model.T_start = pyo.Param(model.I, initialize=lambda model, i: T_start[i-1]) # start time of trip i\n",
    "model.T_end = pyo.Param(model.I, initialize=lambda model, i: T_end[i-1]) # end time of trip i\n",
    "\n",
    "model.alpha = pyo.Param(model.N, initialize=lambda model, n: alpha[n-1]) # charging power of charger n\n",
    "model.beta = pyo.Param(model.N, initialize=lambda model, n: beta[n-1]) # discharging power of charger n\n",
    "\n",
    "model.ch_eff = pyo.Param(initialize=ch_eff) # charging efficiency of charger n\n",
    "model.dch_eff = pyo.Param(initialize=dch_eff) # discharging efficiency of charger n\n",
    "model.gama = pyo.Param(model.I, initialize=lambda model, i: gama[i-1]) # energy consumption\n",
    "\n",
    "model.P = pyo.Param(model.T, initialize=lambda model, t: P[t-1]) # electricity purchasing price in time t\n",
    "model.S = pyo.Param(model.T, initialize=lambda model, t: S[t-1]) # electricity selling price in time t\n",
    "\n",
    "model.E_0 = pyo.Param(initialize=E_0) # initial energy level of bus k\n",
    "model.E_min = pyo.Param(initialize=E_min) # minimum energy level allowed for bus k\n",
    "model.E_max = pyo.Param(initialize=E_max) # maximum energy level allowed for bus k\n",
    "model.E_end = pyo.Param(initialize=E_end) # minimum energy after an operation day for bus k\n",
    "model.C_bat = pyo.Param(model.K, initialize=lambda model, k: C_bat[k-1]) # total capacity of the bus k battery\n",
    "\n",
    "model.U_pow = pyo.Param(model.L, initialize=lambda model, l: U_pow[l-1]) # power level l\n",
    "model.U_price = pyo.Param(model.L, initialize=lambda model, l: U_price[l-1]) # purchasing price for power level l\n",
    "model.U_max = pyo.Param(initialize=U_max[0]) # contracted power\n",
    "\n",
    "model.R = pyo.Param(initialize=R) # battery replacement costs of the bus k\n",
    "model.Ah = pyo.Param(initialize=Ah) # energy consumed until EOL of bus k\n",
    "model.V = pyo.Param(initialize=V) # operational voltage of charger n"
   ]
  },
  {
   "cell_type": "markdown",
   "id": "187ccb56",
   "metadata": {},
   "source": [
    "## Decision Variables"
   ]
  },
  {
   "cell_type": "code",
   "execution_count": 66,
   "id": "8fd17a94",
   "metadata": {},
   "outputs": [],
   "source": [
    "#binary variables\n",
    "\n",
    "# binary variable indicating if bus k is serving trip i at time t\n",
    "model.b = pyo.Var(model.K,model.I, model.T, within=pyo.Binary)\n",
    "\n",
    "# binary variable indicating if bus k is occupying a charger n at time t to charge\n",
    "model.x = pyo.Var(model.K, model.N, model.T, domain=pyo.Binary)\n",
    "\n",
    "# binary variable indicating if bus k is occupying a charger n at time t to discharge\n",
    "model.y = pyo.Var(model.K, model.N, model.T, domain=pyo.Binary)\n",
    "\n",
    "# binary variable indicating if bus k is charging/discharging at time t\n",
    "model.c = pyo.Var(model.K, model.T, domain=pyo.Binary)\n",
    "\n",
    "# binary variable indicating the peak power level l\n",
    "model.u = pyo.Var(model.L, domain=pyo.Binary)\n",
    "\n",
    "#non-negative variables\n",
    "\n",
    "# energy level of bus k at time t\n",
    "model.e = pyo.Var(model.K, model.T, within=pyo.NonNegativeReals) \n",
    "\n",
    "# electricity purchased from the grid at time t\n",
    "model.w_buy = pyo.Var(model.T, within=pyo.NonNegativeReals)\n",
    "\n",
    "# electricity sold to the grid at time t\n",
    "model.w_sell = pyo.Var(model.T, within=pyo.NonNegativeReals)\n",
    "\n",
    "# total degradation cost of the bus k battery at time t\n",
    "model.d = pyo.Var(model.K, model.T, within=pyo.NonNegativeReals)"
   ]
  },
  {
   "cell_type": "markdown",
   "id": "5febc7cc",
   "metadata": {},
   "source": [
    "## Objective Function"
   ]
  },
  {
   "cell_type": "code",
   "execution_count": 67,
   "id": "eaca33d9",
   "metadata": {},
   "outputs": [],
   "source": [
    "def rule_obj(mod):\n",
    "    return sum(mod.P[t]*mod.w_buy[t] for t in mod.T) - sum(mod.S[t]*mod.w_sell[t] for t in mod.T) + sum(mod.d[k,t] for k in mod.K for t in mod.T) + sum(mod.U_price[l]*mod.u[l] for l in mod.L)\n",
    "model.obj = pyo.Objective(rule=rule_obj, sense=pyo.minimize)"
   ]
  },
  {
   "cell_type": "markdown",
   "id": "194dd15c",
   "metadata": {},
   "source": [
    "## Constraints"
   ]
  },
  {
   "cell_type": "code",
   "execution_count": 68,
   "id": "532bd50c",
   "metadata": {},
   "outputs": [],
   "source": [
    "model.constraints = pyo.ConstraintList()  # Create a set of constraints\n",
    "\n",
    "#constraint 2\n",
    "for k in model.K:\n",
    "    for t in model.T:\n",
    "        model.constraints.add(sum(model.b[k,i,t] for i in model.I) + model.c[k,t] <=1)\n",
    "\n",
    "#constraint 3\n",
    "for i in model.I: \n",
    "    for t in range(model.T_start[i],model.T_end[i]):\n",
    "        model.constraints.add(sum(model.b[k,i,t] for k in model.K) == 1)\n",
    "\n",
    "#constraint 4\n",
    "for i in model.I:\n",
    "    for k in model.K:\n",
    "        for t in range(model.T_start[i],model.T_end[i]-1):\n",
    "             model.constraints.add(model.b[k,i,t+1] >= model.b[k,i,t])\n",
    "\n",
    "#constraint 5\n",
    "for n in model.N:\n",
    "    for t in model.T:\n",
    "         model.constraints.add(sum(model.x[k,n,t] for k in model.K) + sum(model.y[k,n,t] for k in model.K) <= 1)\n",
    "\n",
    "#constraint 6\n",
    "for k in model.K:\n",
    "    for t in model.T:\n",
    "        model.constraints.add(sum(model.x[k,n,t] for n in model.N) + sum(model.y[k,n,t] for n in model.N) <= model.c[k,t])\n",
    "\n",
    "#constraint 7\n",
    "for k in model.K:\n",
    "    for t in range(2,T+1):\n",
    "        model.constraints.add(model.e[k,t] == model.e[k,t-1] + sum(model.ch_eff*model.alpha[n]*model.x[k,n,t] for n in model.N) - sum(model.gama[i]*model.b[k,i,t] for i in model.I) - sum(model.dch_eff*model.beta[n]*model.y[k,n,t] for n in model.N))\n",
    "\n",
    "#constraint 8.1\n",
    "for t in model.T:\n",
    "    model.constraints.add(sum(model.ch_eff*model.alpha[n]*model.x[k,n,t] for n in model.N for k in model.K) == model.w_buy[t])\n",
    "\n",
    "#constraint 8.2\n",
    "for t in model.T:\n",
    "        model.constraints.add(sum(model.dch_eff*model.beta[n]*model.y[k,n,t] for n in model.N for k in model.K) == model.w_sell[t])\n",
    "\n",
    "#constraint 9\n",
    "model.constraints.add(sum(model.u[l] for l in model.L)==1)\n",
    "\n",
    "#constraint 10\n",
    "for t in model.T:\n",
    "    model.constraints.add(sum(model.alpha[n]*model.x[k,n,t] for n in model.N for k in model.K) <= sum(model.U_pow[l]*model.u[l] for l in model.L))\n",
    "    \n",
    "#constraint 11\n",
    "for t in model.T:\n",
    "    model.constraints.add(sum(model.alpha[n]*model.x[k,n,t] for n in model.N for k in model.K) + sum(model.beta[n]*model.y[k,n,t] for n in model.N for k in model.K) <= model.U_max)\n",
    "\n",
    "#constraint 12\n",
    "for k in model.K:\n",
    "    for t in model.T:\n",
    "        model.constraints.add(model.e[k,t] >= model.C_bat[k] * model.E_min)\n",
    "\n",
    "#constrait 13\n",
    "for k in model.K:\n",
    "    for t in model.T:\n",
    "        model.constraints.add(E_max * model.C_bat[k] >= model.e[k,t] + sum(model.ch_eff*model.alpha[n]*model.x[k,n,t] for n in model.N))          \n",
    "\n",
    "#constraint 14.1\n",
    "for k in model.K:\n",
    "    model.constraints.add(model.e[k,1] == model.E_0*model.C_bat[k])\n",
    "\n",
    "#constraint 14.2\n",
    "for k in model.K:\n",
    "    model.constraints.add(model.e[k,T]  >= model.E_end*model.C_bat[k])   \n",
    "\n",
    "#constraint 15\n",
    "for k in model.K:\n",
    "    for t in model.T:\n",
    "        model.constraints.add(model.d[k,t] == ((model.R*model.C_bat[1]*1000)/(model.Ah*model.V))* sum(model.beta[n]*model.y[k,n,t] for n in model.N))"
   ]
  },
  {
   "cell_type": "markdown",
   "id": "760271c6",
   "metadata": {},
   "source": [
    "## Solver"
   ]
  },
  {
   "cell_type": "code",
   "execution_count": 69,
   "id": "7e673d18",
   "metadata": {},
   "outputs": [],
   "source": [
    "opt = pyo.SolverFactory('cplex')\n",
    "opt.options['timelimit'] = 3600\n",
    "opt.options['mipgap'] = 0.01\n",
    "solver_manager = pyo.SolverManagerFactory('neos')  # Solve in neos server\n",
    "results = solver_manager.solve(model, opt=opt, tee=True,report_timing=True)"
   ]
  },
  {
   "cell_type": "code",
   "execution_count": 70,
   "id": "bca1dfe4",
   "metadata": {},
   "outputs": [],
   "source": [
    "#opt = pyo.SolverFactory('cplex',executable=EXEC_PATH)\n",
    "#results = opt.solve(model,tee=True,report_timing=True)"
   ]
  },
  {
   "cell_type": "markdown",
   "id": "fb3f0775",
   "metadata": {},
   "source": [
    "## Results visualization"
   ]
  },
  {
   "cell_type": "code",
   "execution_count": 71,
   "id": "35491cd2",
   "metadata": {},
   "outputs": [
    {
     "data": {
      "text/plain": [
       "4.1323200000000035"
      ]
     },
     "execution_count": 71,
     "metadata": {},
     "output_type": "execute_result"
    }
   ],
   "source": [
    "model.obj()"
   ]
  },
  {
   "cell_type": "code",
   "execution_count": 72,
   "id": "e1687c13",
   "metadata": {},
   "outputs": [],
   "source": [
    "def energy_bus(K,T,e):\n",
    "    bus_list = []\n",
    "    energy_list = []\n",
    "    for k in K:\n",
    "        bus_number = 'bus' + ' ' + str(k)\n",
    "        bus_list.append(bus_number)\n",
    "    for t in T:\n",
    "        for  k in K:\n",
    "            energy_list.append(pyo.value(e[k,t]))\n",
    "    energy_array = np.reshape(energy_list, (len(T), len(bus_list)))\n",
    "    Energy = pd.DataFrame(energy_array,index=T, columns=bus_list)\n",
    "    return Energy\n",
    "\n",
    "def power(T,w):\n",
    "    transac_list = []\n",
    "    for t in T:\n",
    "        value = pyo.value(w[t])\n",
    "        transac_list.append(value)\n",
    "    W = pd.DataFrame(transac_list, index=model.T, columns=['Power'])\n",
    "    return W\n",
    "\n",
    "def degradation(K,T,d):\n",
    "    degradation_list =[]\n",
    "    for k in K:\n",
    "        for t in T:\n",
    "            degradation_list.append(pyo.value(d[k,t]))\n",
    "    degradation = pd.DataFrame(degradation_list)\n",
    "    return degradation"
   ]
  },
  {
   "cell_type": "code",
   "execution_count": 73,
   "id": "8ebaca62",
   "metadata": {},
   "outputs": [
    {
     "data": {
      "text/html": [
       "<div>\n",
       "<style scoped>\n",
       "    .dataframe tbody tr th:only-of-type {\n",
       "        vertical-align: middle;\n",
       "    }\n",
       "\n",
       "    .dataframe tbody tr th {\n",
       "        vertical-align: top;\n",
       "    }\n",
       "\n",
       "    .dataframe thead th {\n",
       "        text-align: right;\n",
       "    }\n",
       "</style>\n",
       "<table border=\"1\" class=\"dataframe\">\n",
       "  <thead>\n",
       "    <tr style=\"text-align: right;\">\n",
       "      <th></th>\n",
       "      <th>bus 1</th>\n",
       "    </tr>\n",
       "  </thead>\n",
       "  <tbody>\n",
       "    <tr>\n",
       "      <th>count</th>\n",
       "      <td>1440.000000</td>\n",
       "    </tr>\n",
       "    <tr>\n",
       "      <th>mean</th>\n",
       "      <td>117.874247</td>\n",
       "    </tr>\n",
       "    <tr>\n",
       "      <th>std</th>\n",
       "      <td>51.507895</td>\n",
       "    </tr>\n",
       "    <tr>\n",
       "      <th>min</th>\n",
       "      <td>69.600000</td>\n",
       "    </tr>\n",
       "    <tr>\n",
       "      <th>25%</th>\n",
       "      <td>70.009926</td>\n",
       "    </tr>\n",
       "    <tr>\n",
       "      <th>50%</th>\n",
       "      <td>98.414423</td>\n",
       "    </tr>\n",
       "    <tr>\n",
       "      <th>75%</th>\n",
       "      <td>164.133830</td>\n",
       "    </tr>\n",
       "    <tr>\n",
       "      <th>max</th>\n",
       "      <td>208.800000</td>\n",
       "    </tr>\n",
       "  </tbody>\n",
       "</table>\n",
       "</div>"
      ],
      "text/plain": [
       "             bus 1\n",
       "count  1440.000000\n",
       "mean    117.874247\n",
       "std      51.507895\n",
       "min      69.600000\n",
       "25%      70.009926\n",
       "50%      98.414423\n",
       "75%     164.133830\n",
       "max     208.800000"
      ]
     },
     "execution_count": 73,
     "metadata": {},
     "output_type": "execute_result"
    },
    {
     "data": {
      "image/png": "[encoded data removed]",
      "text/plain": [
       "<Figure size 1200x600 with 1 Axes>"
      ]
     },
     "metadata": {},
     "output_type": "display_data"
    }
   ],
   "source": [
    "Energy = energy_bus(model.K,model.T,model.e)\n",
    "Energy.plot(figsize=(12,6))\n",
    "Energy.describe()"
   ]
  },
  {
   "cell_type": "code",
   "execution_count": 74,
   "id": "4962a77f",
   "metadata": {},
   "outputs": [
    {
     "data": {
      "text/html": [
       "<div>\n",
       "<style scoped>\n",
       "    .dataframe tbody tr th:only-of-type {\n",
       "        vertical-align: middle;\n",
       "    }\n",
       "\n",
       "    .dataframe tbody tr th {\n",
       "        vertical-align: top;\n",
       "    }\n",
       "\n",
       "    .dataframe thead th {\n",
       "        text-align: right;\n",
       "    }\n",
       "</style>\n",
       "<table border=\"1\" class=\"dataframe\">\n",
       "  <thead>\n",
       "    <tr style=\"text-align: right;\">\n",
       "      <th></th>\n",
       "      <th>bus 1</th>\n",
       "    </tr>\n",
       "  </thead>\n",
       "  <tbody>\n",
       "    <tr>\n",
       "      <th>count</th>\n",
       "      <td>1440.000000</td>\n",
       "    </tr>\n",
       "    <tr>\n",
       "      <th>mean</th>\n",
       "      <td>33.871910</td>\n",
       "    </tr>\n",
       "    <tr>\n",
       "      <th>std</th>\n",
       "      <td>14.801119</td>\n",
       "    </tr>\n",
       "    <tr>\n",
       "      <th>min</th>\n",
       "      <td>20.000000</td>\n",
       "    </tr>\n",
       "    <tr>\n",
       "      <th>25%</th>\n",
       "      <td>20.117795</td>\n",
       "    </tr>\n",
       "    <tr>\n",
       "      <th>50%</th>\n",
       "      <td>28.280007</td>\n",
       "    </tr>\n",
       "    <tr>\n",
       "      <th>75%</th>\n",
       "      <td>47.164894</td>\n",
       "    </tr>\n",
       "    <tr>\n",
       "      <th>max</th>\n",
       "      <td>60.000000</td>\n",
       "    </tr>\n",
       "  </tbody>\n",
       "</table>\n",
       "</div>"
      ],
      "text/plain": [
       "             bus 1\n",
       "count  1440.000000\n",
       "mean     33.871910\n",
       "std      14.801119\n",
       "min      20.000000\n",
       "25%      20.117795\n",
       "50%      28.280007\n",
       "75%      47.164894\n",
       "max      60.000000"
      ]
     },
     "execution_count": 74,
     "metadata": {},
     "output_type": "execute_result"
    },
    {
     "data": {
      "image/png": "[encoded data removed]",
      "text/plain": [
       "<Figure size 1200x600 with 1 Axes>"
      ]
     },
     "metadata": {},
     "output_type": "display_data"
    }
   ],
   "source": [
    "Energy_perc = (Energy*100)/C_bat[0]\n",
    "Energy_perc.plot(figsize=(12,6))\n",
    "Energy_perc.describe()"
   ]
  },
  {
   "cell_type": "code",
   "execution_count": 75,
   "id": "de725595",
   "metadata": {},
   "outputs": [
    {
     "data": {
      "text/html": [
       "<div>\n",
       "<style scoped>\n",
       "    .dataframe tbody tr th:only-of-type {\n",
       "        vertical-align: middle;\n",
       "    }\n",
       "\n",
       "    .dataframe tbody tr th {\n",
       "        vertical-align: top;\n",
       "    }\n",
       "\n",
       "    .dataframe thead th {\n",
       "        text-align: right;\n",
       "    }\n",
       "</style>\n",
       "<table border=\"1\" class=\"dataframe\">\n",
       "  <thead>\n",
       "    <tr style=\"text-align: right;\">\n",
       "      <th></th>\n",
       "      <th>Power</th>\n",
       "    </tr>\n",
       "  </thead>\n",
       "  <tbody>\n",
       "    <tr>\n",
       "      <th>count</th>\n",
       "      <td>1440.000000</td>\n",
       "    </tr>\n",
       "    <tr>\n",
       "      <th>mean</th>\n",
       "      <td>5.800000</td>\n",
       "    </tr>\n",
       "    <tr>\n",
       "      <th>std</th>\n",
       "      <td>19.601705</td>\n",
       "    </tr>\n",
       "    <tr>\n",
       "      <th>min</th>\n",
       "      <td>0.000000</td>\n",
       "    </tr>\n",
       "    <tr>\n",
       "      <th>25%</th>\n",
       "      <td>0.000000</td>\n",
       "    </tr>\n",
       "    <tr>\n",
       "      <th>50%</th>\n",
       "      <td>0.000000</td>\n",
       "    </tr>\n",
       "    <tr>\n",
       "      <th>75%</th>\n",
       "      <td>0.000000</td>\n",
       "    </tr>\n",
       "    <tr>\n",
       "      <th>max</th>\n",
       "      <td>72.000000</td>\n",
       "    </tr>\n",
       "  </tbody>\n",
       "</table>\n",
       "</div>"
      ],
      "text/plain": [
       "             Power\n",
       "count  1440.000000\n",
       "mean      5.800000\n",
       "std      19.601705\n",
       "min       0.000000\n",
       "25%       0.000000\n",
       "50%       0.000000\n",
       "75%       0.000000\n",
       "max      72.000000"
      ]
     },
     "execution_count": 75,
     "metadata": {},
     "output_type": "execute_result"
    },
    {
     "data": {
      "image/png": "[encoded data removed]",
      "text/plain": [
       "<Figure size 1200x600 with 1 Axes>"
      ]
     },
     "metadata": {},
     "output_type": "display_data"
    }
   ],
   "source": [
    "W_buy = power(model.T,model.w_buy)*60\n",
    "W_buy.plot(figsize=(12,6))\n",
    "W_buy.describe()"
   ]
  },
  {
   "cell_type": "code",
   "execution_count": 76,
   "id": "0344fc20",
   "metadata": {},
   "outputs": [
    {
     "data": {
      "text/html": [
       "<div>\n",
       "<style scoped>\n",
       "    .dataframe tbody tr th:only-of-type {\n",
       "        vertical-align: middle;\n",
       "    }\n",
       "\n",
       "    .dataframe tbody tr th {\n",
       "        vertical-align: top;\n",
       "    }\n",
       "\n",
       "    .dataframe thead th {\n",
       "        text-align: right;\n",
       "    }\n",
       "</style>\n",
       "<table border=\"1\" class=\"dataframe\">\n",
       "  <thead>\n",
       "    <tr style=\"text-align: right;\">\n",
       "      <th></th>\n",
       "      <th>Power</th>\n",
       "    </tr>\n",
       "  </thead>\n",
       "  <tbody>\n",
       "    <tr>\n",
       "      <th>count</th>\n",
       "      <td>1440.0</td>\n",
       "    </tr>\n",
       "    <tr>\n",
       "      <th>mean</th>\n",
       "      <td>0.0</td>\n",
       "    </tr>\n",
       "    <tr>\n",
       "      <th>std</th>\n",
       "      <td>0.0</td>\n",
       "    </tr>\n",
       "    <tr>\n",
       "      <th>min</th>\n",
       "      <td>0.0</td>\n",
       "    </tr>\n",
       "    <tr>\n",
       "      <th>25%</th>\n",
       "      <td>0.0</td>\n",
       "    </tr>\n",
       "    <tr>\n",
       "      <th>50%</th>\n",
       "      <td>0.0</td>\n",
       "    </tr>\n",
       "    <tr>\n",
       "      <th>75%</th>\n",
       "      <td>0.0</td>\n",
       "    </tr>\n",
       "    <tr>\n",
       "      <th>max</th>\n",
       "      <td>0.0</td>\n",
       "    </tr>\n",
       "  </tbody>\n",
       "</table>\n",
       "</div>"
      ],
      "text/plain": [
       "        Power\n",
       "count  1440.0\n",
       "mean      0.0\n",
       "std       0.0\n",
       "min       0.0\n",
       "25%       0.0\n",
       "50%       0.0\n",
       "75%       0.0\n",
       "max       0.0"
      ]
     },
     "execution_count": 76,
     "metadata": {},
     "output_type": "execute_result"
    },
    {
     "data": {
      "image/png": "[encoded data removed]",
      "text/plain": [
       "<Figure size 1200x600 with 1 Axes>"
      ]
     },
     "metadata": {},
     "output_type": "display_data"
    }
   ],
   "source": [
    "W_sell = power(model.T,model.w_sell)*60\n",
    "W_sell.plot(figsize=(12,6))\n",
    "W_sell.describe()"
   ]
  },
  {
   "cell_type": "code",
   "execution_count": 77,
   "id": "b16d78f0",
   "metadata": {},
   "outputs": [
    {
     "data": {
      "text/html": [
       "<div>\n",
       "<style scoped>\n",
       "    .dataframe tbody tr th:only-of-type {\n",
       "        vertical-align: middle;\n",
       "    }\n",
       "\n",
       "    .dataframe tbody tr th {\n",
       "        vertical-align: top;\n",
       "    }\n",
       "\n",
       "    .dataframe thead th {\n",
       "        text-align: right;\n",
       "    }\n",
       "</style>\n",
       "<table border=\"1\" class=\"dataframe\">\n",
       "  <thead>\n",
       "    <tr style=\"text-align: right;\">\n",
       "      <th></th>\n",
       "      <th>0</th>\n",
       "    </tr>\n",
       "  </thead>\n",
       "  <tbody>\n",
       "    <tr>\n",
       "      <th>count</th>\n",
       "      <td>1440.0</td>\n",
       "    </tr>\n",
       "    <tr>\n",
       "      <th>mean</th>\n",
       "      <td>0.0</td>\n",
       "    </tr>\n",
       "    <tr>\n",
       "      <th>std</th>\n",
       "      <td>0.0</td>\n",
       "    </tr>\n",
       "    <tr>\n",
       "      <th>min</th>\n",
       "      <td>0.0</td>\n",
       "    </tr>\n",
       "    <tr>\n",
       "      <th>25%</th>\n",
       "      <td>0.0</td>\n",
       "    </tr>\n",
       "    <tr>\n",
       "      <th>50%</th>\n",
       "      <td>0.0</td>\n",
       "    </tr>\n",
       "    <tr>\n",
       "      <th>75%</th>\n",
       "      <td>0.0</td>\n",
       "    </tr>\n",
       "    <tr>\n",
       "      <th>max</th>\n",
       "      <td>0.0</td>\n",
       "    </tr>\n",
       "  </tbody>\n",
       "</table>\n",
       "</div>"
      ],
      "text/plain": [
       "            0\n",
       "count  1440.0\n",
       "mean      0.0\n",
       "std       0.0\n",
       "min       0.0\n",
       "25%       0.0\n",
       "50%       0.0\n",
       "75%       0.0\n",
       "max       0.0"
      ]
     },
     "execution_count": 77,
     "metadata": {},
     "output_type": "execute_result"
    }
   ],
   "source": [
    "Degradation = degradation(model.K,model.T,model.d)\n",
    "Degradation.describe()"
   ]
  },
  {
   "cell_type": "code",
   "execution_count": 78,
   "id": "d502aaf0",
   "metadata": {},
   "outputs": [],
   "source": [
    "with pd.ExcelWriter('instances/output.xlsx') as writer:  \n",
    "    Energy.to_excel(writer, sheet_name='Energy')\n",
    "    W_buy.to_excel(writer, sheet_name='Power (Buy)')\n",
    "    W_sell.to_excel(writer, sheet_name='Power (Sell)')\n",
    "    Degradation.to_excel(writer, sheet_name='Battery Degradation')"
   ]
  }
 ],
 "metadata": {
  "kernelspec": {
   "display_name": "Python 3.9.15 ('bus_charging_app')",
   "language": "python",
   "name": "python3"
  },
  "language_info": {
   "codemirror_mode": {
    "name": "ipython",
    "version": 3
   },
   "file_extension": ".py",
   "mimetype": "text/x-python",
   "name": "python",
   "nbconvert_exporter": "python",
   "pygments_lexer": "ipython3",
   "version": "3.9.15"
  },
  "vscode": {
   "interpreter": {
    "hash": "eac5dd5ca2d28bc07758d0721b8e229358ce47c783388344283e7f08412a8526"
   }
  }
 },
 "nbformat": 4,
 "nbformat_minor": 5
}
