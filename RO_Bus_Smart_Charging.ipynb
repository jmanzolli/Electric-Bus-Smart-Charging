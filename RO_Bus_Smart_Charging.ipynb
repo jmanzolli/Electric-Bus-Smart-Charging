{
 "cells": [
  {
   "cell_type": "markdown",
   "id": "7c136853",
   "metadata": {},
   "source": [
    "# Robust Optimization Model - Bus Charging Scheduling"
   ]
  },
  {
   "cell_type": "code",
   "execution_count": 279,
   "id": "5b7fbc41",
   "metadata": {},
   "outputs": [],
   "source": [
    "import pyomo.environ as pyo\n",
    "from pyomo.opt import SolverFactory\n",
    "from pyomo.common.timing import TicTocTimer\n",
    "\n",
    "import pandas as pd\n",
    "import matplotlib.pyplot as plt\n",
    "import numpy as np"
   ]
  },
  {
   "cell_type": "code",
   "execution_count": 280,
   "id": "f9b6bcd1",
   "metadata": {},
   "outputs": [],
   "source": [
    "EXEC_PATH = '/Applications/CPLEX_Studio221/cplex/bin/x86-64_osx/cplex'"
   ]
  },
  {
   "cell_type": "code",
   "execution_count": 281,
   "id": "63452f04",
   "metadata": {},
   "outputs": [],
   "source": [
    "model = pyo.ConcreteModel()"
   ]
  },
  {
   "cell_type": "markdown",
   "id": "181fee93",
   "metadata": {},
   "source": [
    "## Data"
   ]
  },
  {
   "cell_type": "code",
   "execution_count": 282,
   "id": "d11be34e",
   "metadata": {},
   "outputs": [],
   "source": [
    "data = pd.read_excel('input_small.xlsx', None)\n",
    "\n",
    "i = len(data['Trip time']['Time begin (min)'])\n",
    "t = len(data['Energy price']['Energy buying price (per minute)'])\n",
    "k = len(data['Buses']['Bus (kWh)'])\n",
    "n = len(data['Chargers']['Charger (kWh/min)'])\n",
    "l = len(data['Power price']['Power'])\n",
    "\n",
    "T_start = data['Trip time']['Time begin (min)'].tolist()\n",
    "T_start = [int(x) for x in T_start]\n",
    "T_end = data['Trip time']['Time finish (min)'].tolist()\n",
    "T_end = [int(x) for x in T_end]\n",
    "\n",
    "alpha = data['Chargers']['Charger (kWh/min)'].tolist()\n",
    "beta = data['Chargers']['Charger (kWh/min)'].tolist()\n",
    "ch_eff = 0.90\n",
    "dch_eff = 1/0.9\n",
    "gama = data['Energy consumption']['Uncertain energy (kWh/km*min)'].tolist()\n",
    "\n",
    "P = data['Energy price']['Energy buying price (per minute)'].tolist()\n",
    "S = data['Energy price']['Energy selling price (per minute)'].tolist()\n",
    "\n",
    "E_0 = 0.2\n",
    "E_min = 0.2\n",
    "E_max = 1\n",
    "E_end = 0.2\n",
    "C_bat = data['Buses']['Bus (kWh)'].tolist()\n",
    "\n",
    "U_pow = data['Power price']['Power'].tolist()\n",
    "U_price = data['Power price']['Price'].tolist()\n",
    "U_max = data['Chargers']['Max Power (kW)'].tolist()\n",
    "\n",
    "R = 130\n",
    "Ah = 905452\n",
    "V = 512\n",
    "T = t"
   ]
  },
  {
   "cell_type": "code",
   "execution_count": 283,
   "id": "aa7872bc",
   "metadata": {},
   "outputs": [],
   "source": [
    "def energy_consumption(data,dev,conserv):\n",
    "    max_deviation = data['Energy consumption']['Maximum deviation (kWh/km*min)']\n",
    "    max_deviation = max_deviation * dev * conserv\n",
    "    gama = data['Energy consumption']['Uncertain energy (kWh/km*min)'] + max_deviation\n",
    "    gama = gama.tolist()\n",
    "    return gama"
   ]
  },
  {
   "cell_type": "code",
   "execution_count": 284,
   "id": "2aebc9f5",
   "metadata": {},
   "outputs": [],
   "source": [
    "# Different energy consumption\n",
    "dev = 0\n",
    "conserv =[0]\n",
    "gama = energy_consumption(data,dev,conserv)"
   ]
  },
  {
   "cell_type": "markdown",
   "id": "5e0d5349",
   "metadata": {},
   "source": [
    "## Sets"
   ]
  },
  {
   "cell_type": "code",
   "execution_count": 285,
   "id": "4543ff98",
   "metadata": {},
   "outputs": [],
   "source": [
    "model.I = pyo.RangeSet(i) # set of trips\n",
    "model.T = pyo.RangeSet(t) # set of timesteps\n",
    "model.K = pyo.RangeSet(k) # set of buses\n",
    "model.N = pyo.RangeSet(n) # set of chargers\n",
    "model.L = pyo.RangeSet(l) # set of peak power levels"
   ]
  },
  {
   "cell_type": "markdown",
   "id": "ae040660",
   "metadata": {},
   "source": [
    "## Parameters"
   ]
  },
  {
   "cell_type": "code",
   "execution_count": 286,
   "id": "2303dd47",
   "metadata": {},
   "outputs": [],
   "source": [
    "model.T_start = pyo.Param(model.I, initialize=lambda model, i: T_start[i-1]) # start time of trip i\n",
    "model.T_end = pyo.Param(model.I, initialize=lambda model, i: T_end[i-1]) # end time of trip i\n",
    "\n",
    "model.alpha = pyo.Param(model.N, initialize=lambda model, n: alpha[n-1]) # charging power of charger n\n",
    "model.beta = pyo.Param(model.N, initialize=lambda model, n: beta[n-1]) # discharging power of charger n\n",
    "\n",
    "model.ch_eff = pyo.Param(initialize=ch_eff) # charging efficiency of charger n\n",
    "model.dch_eff = pyo.Param(initialize=dch_eff) # discharging efficiency of charger n\n",
    "\n",
    "model.P = pyo.Param(model.T, initialize=lambda model, t: P[t-1]) # electricity purchasing price in time t\n",
    "model.S = pyo.Param(model.T, initialize=lambda model, t: S[t-1]) # electricity selling price in time t\n",
    "model.gama = pyo.Param(model.I, initialize=lambda model, i: gama[i-1]) # energy consumption\n",
    "\n",
    "model.E_0 = pyo.Param(initialize=E_0) # initial energy level of bus k\n",
    "model.E_min = pyo.Param(initialize=E_min) # minimum energy level allowed for bus k\n",
    "model.E_max = pyo.Param(initialize=E_max) # maximum energy level allowed for bus k\n",
    "model.E_end = pyo.Param(initialize=E_end) # minimum energy after an operation day for bus k\n",
    "model.C_bat = pyo.Param(model.K, initialize=lambda model, k: C_bat[k-1]) # total capacity of the bus k battery\n",
    "\n",
    "model.U_pow = pyo.Param(model.L, initialize=lambda model, l: U_pow[l-1]) # power level l\n",
    "model.U_price = pyo.Param(model.L, initialize=lambda model, l: U_price[l-1]) # purchasing price for power level l\n",
    "model.U_max = pyo.Param(initialize=U_max[0]) # contracted power\n",
    "\n",
    "model.R = pyo.Param(initialize=R) # battery replacement costs of the bus k\n",
    "model.Ah = pyo.Param(initialize=Ah) # energy consumed until EOL of bus k\n",
    "model.V = pyo.Param(initialize=V) # operational voltage of charger n"
   ]
  },
  {
   "cell_type": "markdown",
   "id": "187ccb56",
   "metadata": {},
   "source": [
    "## Decision Variables"
   ]
  },
  {
   "cell_type": "code",
   "execution_count": 287,
   "id": "8fd17a94",
   "metadata": {},
   "outputs": [],
   "source": [
    "#binary variables\n",
    "\n",
    "# binary variable indicating if bus k is serving trip i at time t\n",
    "model.b = pyo.Var(model.K,model.I, model.T, within=pyo.Binary)\n",
    "\n",
    "# binary variable indicating if bus k is occupying a charger n at time t to charge\n",
    "model.x = pyo.Var(model.K, model.N, model.T, domain=pyo.Binary)\n",
    "\n",
    "# binary variable indicating if bus k is occupying a charger n at time t to discharge\n",
    "model.y = pyo.Var(model.K, model.N, model.T, domain=pyo.Binary)\n",
    "\n",
    "# binary variable indicating if bus k is charging/discharging at time t\n",
    "model.c = pyo.Var(model.K, model.T, domain=pyo.Binary)\n",
    "\n",
    "# binary variable indicating the peak power level l\n",
    "model.u = pyo.Var(model.L, domain=pyo.Binary)\n",
    "\n",
    "#non-negative variables\n",
    "\n",
    "# energy level of bus k at time t\n",
    "model.e = pyo.Var(model.K, model.T, within=pyo.NonNegativeReals) \n",
    "\n",
    "# electricity purchased from the grid at time t\n",
    "model.w_buy = pyo.Var(model.T, within=pyo.NonNegativeReals)\n",
    "\n",
    "# electricity sold to the grid at time t\n",
    "model.w_sell = pyo.Var(model.T, within=pyo.NonNegativeReals)\n",
    "\n",
    "# total degradation cost of the bus k battery at time t\n",
    "model.d = pyo.Var(model.K, model.T, within=pyo.NonNegativeReals)"
   ]
  },
  {
   "cell_type": "markdown",
   "id": "194dd15c",
   "metadata": {},
   "source": [
    "## Constraints"
   ]
  },
  {
   "cell_type": "code",
   "execution_count": 288,
   "id": "532bd50c",
   "metadata": {},
   "outputs": [],
   "source": [
    "model.constraints = pyo.ConstraintList()  # Create a set of constraints\n",
    "\n",
    "#constraint 2\n",
    "for k in model.K:\n",
    "    for t in model.T:\n",
    "        model.constraints.add(sum(model.b[k,i,t] for i in model.I) + model.c[k,t] <=1)\n",
    "\n",
    "#constraint 3\n",
    "for i in model.I: \n",
    "    for t in range(model.T_start[i],model.T_end[i]):\n",
    "        model.constraints.add(sum(model.b[k,i,t] for k in model.K) == 1)\n",
    "\n",
    "#constraint 4\n",
    "for i in model.I:\n",
    "    for k in model.K:\n",
    "        for t in range(model.T_start[i],model.T_end[i]-1):\n",
    "             model.constraints.add(model.b[k,i,t+1] >= model.b[k,i,t])\n",
    "\n",
    "#constraint 5\n",
    "for n in model.N:\n",
    "    for t in model.T:\n",
    "         model.constraints.add(sum(model.x[k,n,t] for k in model.K) + sum(model.y[k,n,t] for k in model.K) <= 1)\n",
    "\n",
    "#constraint 6\n",
    "for k in model.K:\n",
    "    for t in model.T:\n",
    "        model.constraints.add(sum(model.x[k,n,t] for n in model.N) + sum(model.y[k,n,t] for n in model.N) <= model.c[k,t])\n",
    "\n",
    "#constraint 7\n",
    "for k in model.K:\n",
    "    for t in range(2,T+1):\n",
    "        model.constraints.add(model.e[k,t] == model.e[k,t-1] + sum(model.ch_eff*model.alpha[n]*model.x[k,n,t] for n in model.N) - sum(model.gama[i]*model.b[k,i,t] for i in model.I) - sum(model.dch_eff*model.beta[n]*model.y[k,n,t] for n in model.N))\n",
    "\n",
    "#constraint 8.1\n",
    "for t in model.T:\n",
    "    model.constraints.add(sum(model.ch_eff*model.alpha[n]*model.x[k,n,t] for n in model.N for k in model.K) == model.w_buy[t])\n",
    "\n",
    "#constraint 8.2\n",
    "for t in model.T:\n",
    "        model.constraints.add(sum(model.dch_eff*model.beta[n]*model.y[k,n,t] for n in model.N for k in model.K) == model.w_sell[t])\n",
    "\n",
    "#constraint 9\n",
    "model.constraints.add(sum(model.u[l] for l in model.L)==1)\n",
    "\n",
    "#constraint 10\n",
    "for t in model.T:\n",
    "    model.constraints.add(sum(model.alpha[n]*model.x[k,n,t] for n in model.N for k in model.K) <= sum(model.U_pow[l]*model.u[l] for l in model.L))\n",
    "    \n",
    "#constraint 11\n",
    "for t in model.T:\n",
    "    model.constraints.add(sum(model.alpha[n]*model.x[k,n,t] for n in model.N for k in model.K) + sum(model.beta[n]*model.y[k,n,t] for n in model.N for k in model.K) <= model.U_max)\n",
    "\n",
    "#constraint 12\n",
    "for k in model.K:\n",
    "    for t in model.T:\n",
    "        model.constraints.add(model.e[k,t] >= model.C_bat[k] * model.E_min)\n",
    "\n",
    "#constrait 13\n",
    "for k in model.K:\n",
    "    for t in model.T:\n",
    "        model.constraints.add(E_max * model.C_bat[k] >= model.e[k,t] + sum(model.ch_eff*model.alpha[n]*model.x[k,n,t] for n in model.N))          \n",
    "\n",
    "#constraint 14.1\n",
    "for k in model.K:\n",
    "    model.constraints.add(model.e[k,1] == model.E_0*model.C_bat[k])\n",
    "\n",
    "#constraint 14.2\n",
    "for k in model.K:\n",
    "    model.constraints.add(model.e[k,T] + sum(model.ch_eff*model.alpha[n]*model.x[k,n,T] for n in model.N) >= model.E_end*model.C_bat[k])   \n",
    "\n",
    "#constraint 15\n",
    "for k in model.K:\n",
    "    for t in model.T:\n",
    "        model.constraints.add(model.d[k,t] == ((model.R*model.C_bat[1]*1000)/(model.Ah*model.V))* sum(model.beta[n]*model.y[k,n,t] for n in model.N))"
   ]
  },
  {
   "cell_type": "markdown",
   "id": "5febc7cc",
   "metadata": {},
   "source": [
    "## Objective Function"
   ]
  },
  {
   "cell_type": "code",
   "execution_count": 289,
   "id": "eaca33d9",
   "metadata": {},
   "outputs": [],
   "source": [
    "def rule_obj(mod):\n",
    "    return sum(mod.P[t]*mod.w_buy[t] for t in mod.T) - sum(mod.S[t]*mod.w_sell[t] for t in mod.T) + sum(mod.d[k,t] for k in mod.K for t in mod.T) + sum(mod.U_price[l]*mod.u[l] for l in mod.L)\n",
    "model.obj = pyo.Objective(rule=rule_obj, sense=pyo.minimize)"
   ]
  },
  {
   "cell_type": "markdown",
   "id": "50f4b217",
   "metadata": {},
   "source": [
    "## Instantiation"
   ]
  },
  {
   "cell_type": "code",
   "execution_count": 290,
   "id": "5fff058e",
   "metadata": {},
   "outputs": [],
   "source": [
    "instance = model.create_instance()"
   ]
  },
  {
   "cell_type": "code",
   "execution_count": 291,
   "id": "8dda3d13",
   "metadata": {},
   "outputs": [
    {
     "name": "stdout",
     "output_type": "stream",
     "text": [
      "4.1323200000000035\n"
     ]
    }
   ],
   "source": [
    "opt = pyo.SolverFactory('cplex',executable=EXEC_PATH)\n",
    "results = opt.solve(instance)\n",
    "print(instance.obj())"
   ]
  },
  {
   "cell_type": "markdown",
   "id": "760271c6",
   "metadata": {},
   "source": [
    "## Solver"
   ]
  },
  {
   "cell_type": "code",
   "execution_count": 292,
   "id": "a6b78e52",
   "metadata": {},
   "outputs": [
    {
     "name": "stdout",
     "output_type": "stream",
     "text": [
      "\n",
      "===== iteration 1\n",
      "deviation: 25.0 %\n",
      "[0.2310550475]\n",
      "objective function value: 4.1323200000000035\n",
      "\n",
      "===== iteration 2\n",
      "deviation: 50.0 %\n",
      "[0.24180839099999998]\n",
      "objective function value: 4.1323200000000035\n",
      "\n",
      "===== iteration 3\n",
      "deviation: 75.0 %\n",
      "[0.25256173449999997]\n",
      "objective function value: 4.1323200000000035\n",
      "\n",
      "===== iteration 4\n",
      "deviation: 100 %\n",
      "[0.263315078]\n",
      "objective function value: 4.1323200000000035\n"
     ]
    }
   ],
   "source": [
    "# Iterate to vary the energy consumption\n",
    "\n",
    "dev_ = [0.25,0.5,0.75,1]\n",
    "aux = 1\n",
    "\n",
    "for d in dev_:\n",
    "    print (\"\\n===== iteration\",aux)\n",
    "    print(\"deviation:\",d*100,'%')\n",
    "    objective = []\n",
    "    conserv =[1]\n",
    "    gama = energy_consumption(data,d,conserv)\n",
    "    print(gama)\n",
    "    model.del_component(model.gama)\n",
    "    model.gama = pyo.Param(model.I, initialize=lambda model, i: gama[i-1])\n",
    "    instance = model.create_instance()\n",
    "    results = opt.solve(instance)\n",
    "    print(\"objective function value:\",instance.obj())\n",
    "    objective.append(instance.obj())\n",
    "    aux = aux + 1"
   ]
  }
 ],
 "metadata": {
  "kernelspec": {
   "display_name": "Python 3.9.15 ('bus_charging_app')",
   "language": "python",
   "name": "python3"
  },
  "language_info": {
   "codemirror_mode": {
    "name": "ipython",
    "version": 3
   },
   "file_extension": ".py",
   "mimetype": "text/x-python",
   "name": "python",
   "nbconvert_exporter": "python",
   "pygments_lexer": "ipython3",
   "version": "3.9.15"
  },
  "vscode": {
   "interpreter": {
    "hash": "eac5dd5ca2d28bc07758d0721b8e229358ce47c783388344283e7f08412a8526"
   }
  }
 },
 "nbformat": 4,
 "nbformat_minor": 5
}
