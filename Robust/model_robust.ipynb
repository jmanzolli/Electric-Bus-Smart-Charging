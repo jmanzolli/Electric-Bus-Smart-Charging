{
 "cells": [
  {
   "cell_type": "markdown",
   "id": "7c136853",
   "metadata": {},
   "source": [
    "# Robust Optimization Model - Bus Charging Scheduling"
   ]
  },
  {
   "cell_type": "markdown",
   "id": "33571887",
   "metadata": {},
   "source": [
    "## Initialization"
   ]
  },
  {
   "cell_type": "code",
   "execution_count": 199,
   "id": "5b7fbc41",
   "metadata": {},
   "outputs": [],
   "source": [
    "import pyomo.environ as pyo\n",
    "from pyomo.solvers.plugins.solvers.cplex_persistent import CPLEXPersistent\n",
    "from pyomo.opt import SolverFactory\n",
    "import pandas as pd\n",
    "import matplotlib.pyplot as plt\n",
    "import numpy as np"
   ]
  },
  {
   "cell_type": "code",
   "execution_count": 200,
   "id": "63452f04",
   "metadata": {},
   "outputs": [],
   "source": [
    "data = pd.read_excel('Instances/input_small.xlsx', None)\n",
    "EXEC_PATH = '/Applications/CPLEX_Studio221/cplex/bin/x86-64_osx/cplex'"
   ]
  },
  {
   "cell_type": "markdown",
   "id": "17a6fb1f",
   "metadata": {},
   "source": [
    "## Model definition"
   ]
  },
  {
   "cell_type": "code",
   "execution_count": 201,
   "id": "38b19e0f",
   "metadata": {},
   "outputs": [],
   "source": [
    "def createModel(data,gama):\n",
    "\n",
    "    model = pyo.ConcreteModel() # create model\n",
    "    \n",
    "    #DATA\n",
    "    i = len(data['Trip time']['Time begin (min)'])\n",
    "    t = len(data['Energy price']['Energy buying price (per minute)'])\n",
    "    k = len(data['Buses']['Bus (kWh)'])\n",
    "    n = len(data['Chargers']['Charger (kWh/min)'])\n",
    "    l = len(data['Power price']['Power'])\n",
    "    T_start = data['Trip time']['Time begin (min)'].tolist()\n",
    "    T_start = [int(x) for x in T_start]\n",
    "    T_end = data['Trip time']['Time finish (min)'].tolist()\n",
    "    T_end = [int(x) for x in T_end]\n",
    "    alpha = data['Chargers']['Charger (kWh/min)'].tolist()\n",
    "    beta = data['Chargers']['Charger (kWh/min)'].tolist()\n",
    "    ch_eff = 0.90\n",
    "    dch_eff = 1/0.9\n",
    "    P = data['Energy price']['Energy buying price (per minute)'].tolist()\n",
    "    S = data['Energy price']['Energy selling price (per minute)'].tolist()\n",
    "    E_0 = 0.2\n",
    "    E_min = 0.2\n",
    "    E_max = 1\n",
    "    E_end = 0.2\n",
    "    C_bat = data['Buses']['Bus (kWh)'].tolist()\n",
    "    U_pow = data['Power price']['Power'].tolist()\n",
    "    U_price = data['Power price']['Price'].tolist()\n",
    "    U_max = data['Chargers']['Max Power (kW)'].tolist()\n",
    "    R = 130\n",
    "    Ah = 905452\n",
    "    V = 512\n",
    "    T = t\n",
    "\n",
    "    ## SETS\n",
    "    model.I = pyo.RangeSet(i) # set of trips\n",
    "    model.T = pyo.RangeSet(t) # set of timesteps\n",
    "    model.K = pyo.RangeSet(k) # set of buses\n",
    "    model.N = pyo.RangeSet(n) # set of chargers\n",
    "    model.L = pyo.RangeSet(l) # set of peak power levels\n",
    "\n",
    "    ## PARAMETERS\n",
    "    model.T_start = pyo.Param(model.I, initialize=lambda model, i: T_start[i-1]) # start time of trip i\n",
    "    model.T_end = pyo.Param(model.I, initialize=lambda model, i: T_end[i-1]) # end time of trip i\n",
    "    model.alpha = pyo.Param(model.N, initialize=lambda model, n: alpha[n-1]) # charging power of charger n\n",
    "    model.beta = pyo.Param(model.N, initialize=lambda model, n: beta[n-1]) # discharging power of charger n\n",
    "    model.ch_eff = pyo.Param(initialize=ch_eff) # charging efficiency of charger n\n",
    "    model.dch_eff = pyo.Param(initialize=dch_eff) # discharging efficiency of charger n\n",
    "    model.P = pyo.Param(model.T, initialize=lambda model, t: P[t-1]) # electricity purchasing price in time t\n",
    "    model.S = pyo.Param(model.T, initialize=lambda model, t: S[t-1]) # electricity selling price in time t\n",
    "    model.gama = pyo.Param(model.I, initialize=lambda model, i: gama[i-1],mutable=True) # energy consumption\n",
    "    model.E_0 = pyo.Param(initialize=E_0) # initial energy level of bus k\n",
    "    model.E_min = pyo.Param(initialize=E_min) # minimum energy level allowed for bus k\n",
    "    model.E_max = pyo.Param(initialize=E_max) # maximum energy level allowed for bus k\n",
    "    model.E_end = pyo.Param(initialize=E_end) # minimum energy after an operation day for bus k\n",
    "    model.C_bat = pyo.Param(model.K, initialize=lambda model, k: C_bat[k-1]) # total capacity of the bus k battery\n",
    "    model.U_pow = pyo.Param(model.L, initialize=lambda model, l: U_pow[l-1]) # power level l\n",
    "    model.U_price = pyo.Param(model.L, initialize=lambda model, l: U_price[l-1]) # purchasing price for power level l\n",
    "    model.U_max = pyo.Param(initialize=U_max[0]) # contracted power\n",
    "    model.R = pyo.Param(initialize=R) # battery replacement costs of the bus k\n",
    "    model.Ah = pyo.Param(initialize=Ah) # energy consumed until EOL of bus k\n",
    "    model.V = pyo.Param(initialize=V) # operational voltage of charger n\n",
    "\n",
    "    # BINARY VARIABLES\n",
    "    model.b = pyo.Var(model.K,model.I, model.T, within=pyo.Binary) # binary variable indicating if bus k is serving trip i at time t\n",
    "    model.x = pyo.Var(model.K, model.N, model.T, domain=pyo.Binary) # binary variable indicating if bus k is occupying a charger n at time t to charge\n",
    "    model.y = pyo.Var(model.K, model.N, model.T, domain=pyo.Binary) # binary variable indicating if bus k is occupying a charger n at time t to discharge\n",
    "    model.c = pyo.Var(model.K, model.T, domain=pyo.Binary)  # binary variable indicating if bus k is charging/discharging at time t\n",
    "    model.u = pyo.Var(model.L, domain=pyo.Binary)  # binary variable indicating the peak power level l\n",
    "\n",
    "    # NON-NEGATIVE VARIABLES\n",
    "    model.e = pyo.Var(model.K, model.T, within=pyo.NonNegativeReals) # energy level of bus k at time t\n",
    "    model.w_buy = pyo.Var(model.T, within=pyo.NonNegativeReals) # electricity purchased from the grid at time t\n",
    "    model.w_sell = pyo.Var(model.T, within=pyo.NonNegativeReals) # electricity sold to the grid at time t\n",
    "    model.d = pyo.Var(model.K, model.T, within=pyo.NonNegativeReals) # total degradation cost of the bus k battery at time t\n",
    "\n",
    "    # CONSTRAINTS\n",
    "    model.constraints = pyo.ConstraintList()\n",
    "\n",
    "    #constraint 2\n",
    "    for k in model.K:\n",
    "        for t in model.T:\n",
    "            model.constraints.add(sum(model.b[k,i,t] for i in model.I) + model.c[k,t] <=1)\n",
    "    #constraint 3\n",
    "    for i in model.I: \n",
    "        for t in range(model.T_start[i],model.T_end[i]):\n",
    "            model.constraints.add(sum(model.b[k,i,t] for k in model.K) == 1)\n",
    "    #constraint 4\n",
    "    for i in model.I:\n",
    "        for k in model.K:\n",
    "            for t in range(model.T_start[i],model.T_end[i]-1):\n",
    "                model.constraints.add(model.b[k,i,t+1] >= model.b[k,i,t])\n",
    "    #constraint 5\n",
    "    for n in model.N:\n",
    "        for t in model.T:\n",
    "            model.constraints.add(sum(model.x[k,n,t] for k in model.K) + sum(model.y[k,n,t] for k in model.K) <= 1)\n",
    "    #constraint 6\n",
    "    for k in model.K:\n",
    "        for t in model.T:\n",
    "            model.constraints.add(sum(model.x[k,n,t] for n in model.N) + sum(model.y[k,n,t] for n in model.N) <= model.c[k,t])\n",
    "    #constraint 7\n",
    "    for k in model.K:\n",
    "        for t in range(2,T+1):\n",
    "            model.constraints.add(model.e[k,t] == model.e[k,t-1] + sum(model.ch_eff*model.alpha[n]*model.x[k,n,t] for n in model.N) - sum(model.gama[i]*model.b[k,i,t] for i in model.I) - sum(model.dch_eff*model.beta[n]*model.y[k,n,t] for n in model.N))\n",
    "    #constraint 8.1\n",
    "    for t in model.T:\n",
    "        model.constraints.add(sum(model.ch_eff*model.alpha[n]*model.x[k,n,t] for n in model.N for k in model.K) == model.w_buy[t])\n",
    "    #constraint 8.2\n",
    "    for t in model.T:\n",
    "            model.constraints.add(sum(model.dch_eff*model.beta[n]*model.y[k,n,t] for n in model.N for k in model.K) == model.w_sell[t])\n",
    "    #constraint 9\n",
    "    model.constraints.add(sum(model.u[l] for l in model.L)==1)\n",
    "    #constraint 10\n",
    "    for t in model.T:\n",
    "        model.constraints.add(sum(model.alpha[n]*model.x[k,n,t] for n in model.N for k in model.K) <= sum(model.U_pow[l]*model.u[l] for l in model.L))  \n",
    "    #constraint 11\n",
    "    for t in model.T:\n",
    "        model.constraints.add(sum(model.alpha[n]*model.x[k,n,t] for n in model.N for k in model.K) + sum(model.beta[n]*model.y[k,n,t] for n in model.N for k in model.K) <= model.U_max)\n",
    "    #constraint 12\n",
    "    for k in model.K:\n",
    "        for t in model.T:\n",
    "            model.constraints.add(model.e[k,t] >= model.C_bat[k] * model.E_min)\n",
    "    #constrait 13\n",
    "    for k in model.K:\n",
    "        for t in model.T:\n",
    "            model.constraints.add(model.E_max * model.C_bat[k] >= model.e[k,t] + sum(model.ch_eff*model.alpha[n]*model.x[k,n,t] for n in model.N))          \n",
    "    #constraint 14.1\n",
    "    for k in model.K:\n",
    "        model.constraints.add(model.e[k,1] == model.E_0*model.C_bat[k])\n",
    "    #constraint 14.2\n",
    "    for k in model.K:\n",
    "        model.constraints.add(model.e[k,T]  >= model.E_end*model.C_bat[k])   \n",
    "    #constraint 15\n",
    "    for k in model.K:\n",
    "        for t in model.T:\n",
    "            model.constraints.add(model.d[k,t] == ((model.R*model.C_bat[1]*1000)/(model.Ah*model.V))* sum(model.beta[n]*model.y[k,n,t] for n in model.N))\n",
    "\n",
    "    # OBJECTIVE FUNCTION\n",
    "    def rule_obj(mod):\n",
    "        return sum(mod.P[t]*mod.w_buy[t] for t in mod.T) - sum(mod.S[t]*mod.w_sell[t] for t in mod.T) + sum(mod.d[k,t] for k in mod.K for t in mod.T) + sum(mod.U_price[l]*mod.u[l] for l in mod.L)\n",
    "    model.obj = pyo.Objective(rule=rule_obj, sense=pyo.minimize)\n",
    "\n",
    "    return model\n"
   ]
  },
  {
   "cell_type": "markdown",
   "id": "b997fbe2",
   "metadata": {},
   "source": [
    "## Energy Consumption Parameter"
   ]
  },
  {
   "cell_type": "code",
   "execution_count": 202,
   "id": "aa7872bc",
   "metadata": {},
   "outputs": [],
   "source": [
    "def energy_consumption(data,dev,conserv):\n",
    "    max_deviation = data['Energy consumption']['Maximum deviation (kWh/km*min)']\n",
    "    max_deviation = max_deviation * dev * conserv\n",
    "    gama = data['Energy consumption']['Uncertain energy (kWh/km*min)'] + max_deviation\n",
    "    gama = gama.tolist()\n",
    "    return gama"
   ]
  },
  {
   "cell_type": "markdown",
   "id": "50f4b217",
   "metadata": {},
   "source": [
    "## Instantiation / Solver"
   ]
  },
  {
   "cell_type": "code",
   "execution_count": 203,
   "id": "9a424f59",
   "metadata": {},
   "outputs": [],
   "source": [
    "gama = energy_consumption(data,0,0)\n",
    "model = createModel(data,gama)"
   ]
  },
  {
   "cell_type": "code",
   "execution_count": 204,
   "id": "8dda3d13",
   "metadata": {},
   "outputs": [
    {
     "data": {
      "text/plain": [
       "8.9616"
      ]
     },
     "execution_count": 204,
     "metadata": {},
     "output_type": "execute_result"
    }
   ],
   "source": [
    "# SOLVING LOCALY\n",
    "opt = pyo.SolverFactory('cplex_persistent',executable=EXEC_PATH)\n",
    "opt.set_instance(model)\n",
    "opt.solve()\n",
    "opt.set_instance(model)\n",
    "\n",
    "\n",
    "print(model.obj()) # deterministic value"
   ]
  },
  {
   "cell_type": "markdown",
   "id": "5749125c",
   "metadata": {},
   "source": [
    "## Robust Optimization (Iteration)"
   ]
  },
  {
   "cell_type": "code",
   "execution_count": 205,
   "id": "a6b78e52",
   "metadata": {},
   "outputs": [],
   "source": [
    "# iterate to vary the energy consumption\n",
    "def robust_formulation(devs,n):\n",
    "    objective = np.empty((len(devs),n))\n",
    "    for count, d in enumerate(devs):\n",
    "        print (\"\\n===== iteration\",count+1)\n",
    "        print(\"deviation:\",d*100,'%')\n",
    "        conserv = [0] * n\n",
    "        for i in range(n):\n",
    "            conserv[i] = 1\n",
    "            gama = energy_consumption(data,d,conserv)\n",
    "            print(gama)\n",
    "            model = createModel(data,gama)\n",
    "            opt.set_instance(model) # to solve using the local machine\n",
    "            opt.solve() # to solve using the local machine\n",
    "            print(\"objective function for GAMA =\",conserv, \" is:\", model.obj())\n",
    "            objective[count][i] = model.obj()\n",
    "    return objective "
   ]
  },
  {
   "cell_type": "code",
   "execution_count": 206,
   "id": "dffd1c76",
   "metadata": {},
   "outputs": [
    {
     "name": "stdout",
     "output_type": "stream",
     "text": [
      "\n",
      "===== iteration 1\n",
      "deviation: 25.0 %\n",
      "[5.6412502049999995, 5.3186499]\n",
      "objective function for GAMA = [1, 0]  is: 8.9616\n",
      "[5.6412502049999995, 5.6412502049999995]\n",
      "objective function for GAMA = [1, 1]  is: 8.9616\n",
      "\n",
      "===== iteration 2\n",
      "deviation: 50.0 %\n",
      "[5.963850509999999, 5.3186499]\n",
      "objective function for GAMA = [1, 0]  is: 8.9616\n",
      "[5.963850509999999, 5.963850509999999]\n",
      "objective function for GAMA = [1, 1]  is: 8.961599998896538\n",
      "\n",
      "===== iteration 3\n",
      "deviation: 75.0 %\n",
      "[6.286450814999999, 5.3186499]\n",
      "objective function for GAMA = [1, 0]  is: 8.9616\n",
      "[6.286450814999999, 6.286450814999999]\n",
      "objective function for GAMA = [1, 1]  is: 8.9616\n",
      "\n",
      "===== iteration 4\n",
      "deviation: 100 %\n",
      "[6.609051119999999, 5.3186499]\n",
      "objective function for GAMA = [1, 0]  is: 8.9616\n",
      "[6.609051119999999, 6.609051119999999]\n",
      "objective function for GAMA = [1, 1]  is: 10.4268\n"
     ]
    }
   ],
   "source": [
    "devs = [0.25,0.5,0.75,1] # percentage of deviation\n",
    "n = len(data['Trip time']['Time begin (min)']) # number of energy deviations\n",
    "objective = robust_formulation(devs,n)"
   ]
  }
 ],
 "metadata": {
  "kernelspec": {
   "display_name": "Python 3.9.15 ('bus_charging_app')",
   "language": "python",
   "name": "python3"
  },
  "language_info": {
   "codemirror_mode": {
    "name": "ipython",
    "version": 3
   },
   "file_extension": ".py",
   "mimetype": "text/x-python",
   "name": "python",
   "nbconvert_exporter": "python",
   "pygments_lexer": "ipython3",
   "version": "3.9.15"
  },
  "vscode": {
   "interpreter": {
    "hash": "eac5dd5ca2d28bc07758d0721b8e229358ce47c783388344283e7f08412a8526"
   }
  }
 },
 "nbformat": 4,
 "nbformat_minor": 5
}
